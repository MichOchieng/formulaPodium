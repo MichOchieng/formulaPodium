{
 "cells": [
  {
   "cell_type": "code",
   "execution_count": 2,
   "metadata": {},
   "outputs": [
    {
     "name": "stderr",
     "output_type": "stream",
     "text": [
      "/Users/momo/opt/anaconda3/lib/python3.9/site-packages/scipy/__init__.py:146: UserWarning: A NumPy version >=1.16.5 and <1.23.0 is required for this version of SciPy (detected version 1.23.5\n",
      "  warnings.warn(f\"A NumPy version >={np_minversion} and <{np_maxversion}\"\n"
     ]
    }
   ],
   "source": [
    "import numpy as np\n",
    "import pandas as pd\n",
    "from sklearn.linear_model import LogisticRegression\n",
    "from sklearn.model_selection import train_test_split\n",
    "from sklearn import metrics"
   ]
  },
  {
   "attachments": {},
   "cell_type": "markdown",
   "metadata": {},
   "source": [
    "# Importing data"
   ]
  },
  {
   "cell_type": "code",
   "execution_count": 34,
   "metadata": {},
   "outputs": [
    {
     "data": {
      "text/html": [
       "<div>\n",
       "<style scoped>\n",
       "    .dataframe tbody tr th:only-of-type {\n",
       "        vertical-align: middle;\n",
       "    }\n",
       "\n",
       "    .dataframe tbody tr th {\n",
       "        vertical-align: top;\n",
       "    }\n",
       "\n",
       "    .dataframe thead th {\n",
       "        text-align: right;\n",
       "    }\n",
       "</style>\n",
       "<table border=\"1\" class=\"dataframe\">\n",
       "  <thead>\n",
       "    <tr style=\"text-align: right;\">\n",
       "      <th></th>\n",
       "      <th>constructor</th>\n",
       "      <th>avglap</th>\n",
       "      <th>year</th>\n",
       "      <th>circuit</th>\n",
       "      <th>podium</th>\n",
       "      <th>fastestLap</th>\n",
       "      <th>lap</th>\n",
       "    </tr>\n",
       "  </thead>\n",
       "  <tbody>\n",
       "    <tr>\n",
       "      <th>1781</th>\n",
       "      <td>Red Bull</td>\n",
       "      <td>105611.49</td>\n",
       "      <td>2020</td>\n",
       "      <td>Yas Marina Circuit</td>\n",
       "      <td>0</td>\n",
       "      <td>NaN</td>\n",
       "      <td>NaN</td>\n",
       "    </tr>\n",
       "    <tr>\n",
       "      <th>898</th>\n",
       "      <td>Mercedes</td>\n",
       "      <td>105225.32</td>\n",
       "      <td>2016</td>\n",
       "      <td>Circuit of the Americas</td>\n",
       "      <td>1</td>\n",
       "      <td>NaN</td>\n",
       "      <td>NaN</td>\n",
       "    </tr>\n",
       "    <tr>\n",
       "      <th>1618</th>\n",
       "      <td>McLaren</td>\n",
       "      <td>106884.55</td>\n",
       "      <td>2019</td>\n",
       "      <td>Sochi Autodrom</td>\n",
       "      <td>0</td>\n",
       "      <td>NaN</td>\n",
       "      <td>NaN</td>\n",
       "    </tr>\n",
       "    <tr>\n",
       "      <th>179</th>\n",
       "      <td>Mercedes</td>\n",
       "      <td>142032.88</td>\n",
       "      <td>2020</td>\n",
       "      <td>Autodromo Internazionale del Mugello</td>\n",
       "      <td>1</td>\n",
       "      <td>NaN</td>\n",
       "      <td>NaN</td>\n",
       "    </tr>\n",
       "    <tr>\n",
       "      <th>645</th>\n",
       "      <td>Renault</td>\n",
       "      <td>79482.64</td>\n",
       "      <td>2018</td>\n",
       "      <td>Circuit de Monaco</td>\n",
       "      <td>0</td>\n",
       "      <td>NaN</td>\n",
       "      <td>NaN</td>\n",
       "    </tr>\n",
       "    <tr>\n",
       "      <th>...</th>\n",
       "      <td>...</td>\n",
       "      <td>...</td>\n",
       "      <td>...</td>\n",
       "      <td>...</td>\n",
       "      <td>...</td>\n",
       "      <td>...</td>\n",
       "      <td>...</td>\n",
       "    </tr>\n",
       "    <tr>\n",
       "      <th>60</th>\n",
       "      <td>NaN</td>\n",
       "      <td>74820</td>\n",
       "      <td>2017</td>\n",
       "      <td>Circuit de Monaco</td>\n",
       "      <td>1</td>\n",
       "      <td>76.0</td>\n",
       "      <td>76.0</td>\n",
       "    </tr>\n",
       "    <tr>\n",
       "      <th>97</th>\n",
       "      <td>NaN</td>\n",
       "      <td>74279</td>\n",
       "      <td>2019</td>\n",
       "      <td>Circuit de Monaco</td>\n",
       "      <td>1</td>\n",
       "      <td>72.0</td>\n",
       "      <td>72.0</td>\n",
       "    </tr>\n",
       "    <tr>\n",
       "      <th>123</th>\n",
       "      <td>NaN</td>\n",
       "      <td>65619</td>\n",
       "      <td>2020</td>\n",
       "      <td>Red Bull Ring</td>\n",
       "      <td>1</td>\n",
       "      <td>68.0</td>\n",
       "      <td>68.0</td>\n",
       "    </tr>\n",
       "    <tr>\n",
       "      <th>113</th>\n",
       "      <td>NaN</td>\n",
       "      <td>78833</td>\n",
       "      <td>2020</td>\n",
       "      <td>Autodromo Internazionale del Mugello</td>\n",
       "      <td>1</td>\n",
       "      <td>58.0</td>\n",
       "      <td>58.0</td>\n",
       "    </tr>\n",
       "    <tr>\n",
       "      <th>99</th>\n",
       "      <td>NaN</td>\n",
       "      <td>73078</td>\n",
       "      <td>2019</td>\n",
       "      <td>Circuit Gilles Villeneuve</td>\n",
       "      <td>1</td>\n",
       "      <td>69.0</td>\n",
       "      <td>69.0</td>\n",
       "    </tr>\n",
       "  </tbody>\n",
       "</table>\n",
       "<p>1982 rows × 7 columns</p>\n",
       "</div>"
      ],
      "text/plain": [
       "     constructor     avglap  year                               circuit  \\\n",
       "1781    Red Bull  105611.49  2020                    Yas Marina Circuit   \n",
       "898     Mercedes  105225.32  2016               Circuit of the Americas   \n",
       "1618     McLaren  106884.55  2019                        Sochi Autodrom   \n",
       "179     Mercedes  142032.88  2020  Autodromo Internazionale del Mugello   \n",
       "645      Renault   79482.64  2018                     Circuit de Monaco   \n",
       "...          ...        ...   ...                                   ...   \n",
       "60           NaN      74820  2017                     Circuit de Monaco   \n",
       "97           NaN      74279  2019                     Circuit de Monaco   \n",
       "123          NaN      65619  2020                         Red Bull Ring   \n",
       "113          NaN      78833  2020  Autodromo Internazionale del Mugello   \n",
       "99           NaN      73078  2019             Circuit Gilles Villeneuve   \n",
       "\n",
       "      podium  fastestLap   lap  \n",
       "1781       0         NaN   NaN  \n",
       "898        1         NaN   NaN  \n",
       "1618       0         NaN   NaN  \n",
       "179        1         NaN   NaN  \n",
       "645        0         NaN   NaN  \n",
       "...      ...         ...   ...  \n",
       "60         1        76.0  76.0  \n",
       "97         1        72.0  72.0  \n",
       "123        1        68.0  68.0  \n",
       "113        1        58.0  58.0  \n",
       "99         1        69.0  69.0  \n",
       "\n",
       "[1982 rows x 7 columns]"
      ]
     },
     "execution_count": 34,
     "metadata": {},
     "output_type": "execute_result"
    }
   ],
   "source": [
    "lapData  = pd.read_table('./racedata.csv',sep=',').sample(frac=1)\n",
    "fastestLaps = pd.read_table('./fastestLaps.csv',sep=',').sample(frac=1)\n",
    "# Preview\n",
    "lapData['constructor'] = lapData['constructor'].astype(np.str0)\n",
    "lapData['avglap']  = lapData['avglap'].astype(np.float64)\n",
    "lapData['year']    = lapData['year'].astype(np.int64)\n",
    "lapData['circuit'] = lapData['circuit'].astype(np.str0)\n",
    "lapData['podium']  = lapData['podium'].astype(np.int8)\n",
    "\n",
    "fastestLaps['avglap']       = fastestLaps['avglap'].astype(np.str0)\n",
    "fastestLaps['year']         = fastestLaps['year'].astype(np.int64)\n",
    "fastestLaps['circuit']      = fastestLaps['circuit'].astype(np.str0)\n",
    "fastestLaps['podium']       = fastestLaps['podium'].astype(np.int8)\n",
    "\n",
    "data = pd.concat([lapData,fastestLaps])\n",
    "# scramble data\n",
    "data\n"
   ]
  },
  {
   "cell_type": "markdown",
   "metadata": {},
   "source": [
    "### Split test / train data"
   ]
  },
  {
   "cell_type": "code",
   "execution_count": 40,
   "metadata": {},
   "outputs": [],
   "source": [
    "YData = data['podium']\n",
    "# XData0 =  pd.get_dummies(data,prefix=['constructor','circuit'],columns=['constructor','circuit']).astype('float')\n",
    "\n",
    "lapData1 = data[['avglap','year','circuit']]\n",
    "XData1 =  pd.get_dummies(lapData1,prefix=['circuit'],columns=['circuit']).astype('float')\n",
    "\n",
    "lapData2 = data[['avglap','circuit']]\n",
    "XData2 =  pd.get_dummies(lapData2,prefix=['circuit'],columns=['circuit']).astype('float')\n"
   ]
  },
  {
   "cell_type": "code",
   "execution_count": 41,
   "metadata": {},
   "outputs": [],
   "source": [
    "# XTrain0, XTest0, YTrain0, YTest0 = train_test_split(XData0, YData, test_size=0.3, random_state=2)\n",
    "\n",
    "XTrain1, XTest1, YTrain1, YTest1 = train_test_split(XData1, YData, test_size=0.3, random_state=4)\n",
    "\n",
    "XTrain2, XTest2, YTrain2, YTest2 = train_test_split(XData2, YData, test_size=0.3, random_state=6)"
   ]
  },
  {
   "attachments": {},
   "cell_type": "markdown",
   "metadata": {},
   "source": [
    "# Model Creation + Training"
   ]
  },
  {
   "attachments": {},
   "cell_type": "markdown",
   "metadata": {},
   "source": [
    "#### Utillities"
   ]
  },
  {
   "cell_type": "code",
   "execution_count": 23,
   "metadata": {},
   "outputs": [],
   "source": [
    "from sklearn.model_selection import GridSearchCV\n",
    "\n",
    "paramGrid = [\n",
    "    {\n",
    "        'penalty' : ['l1','l2','elasticnet','none'],\n",
    "        'C' : np.logspace(-4,4,20),\n",
    "        'solver' : ['lbfgs','newton-cg','liblinear','sag','saga'],\n",
    "        'max_iter' : [100,1000,2500,5000]\n",
    "    }\n",
    "]"
   ]
  },
  {
   "cell_type": "markdown",
   "metadata": {},
   "source": [
    "### Fully featured model"
   ]
  },
  {
   "cell_type": "code",
   "execution_count": 5,
   "metadata": {},
   "outputs": [
    {
     "name": "stdout",
     "output_type": "stream",
     "text": [
      "1.0\n"
     ]
    }
   ],
   "source": [
    "model = LogisticRegression()\n",
    "model.fit(XTrain0,YTrain0)\n",
    "print(model.score(XTest0,YTest0))"
   ]
  },
  {
   "cell_type": "code",
   "execution_count": 42,
   "metadata": {},
   "outputs": [
    {
     "data": {
      "text/plain": [
       "0.8151260504201681"
      ]
     },
     "execution_count": 42,
     "metadata": {},
     "output_type": "execute_result"
    }
   ],
   "source": [
    "from sklearn.tree import DecisionTreeClassifier\n",
    "tree =  DecisionTreeClassifier().fit(XTrain1,YTrain1)\n",
    "tree.score(XTest1,YTest1)"
   ]
  },
  {
   "cell_type": "code",
   "execution_count": 43,
   "metadata": {},
   "outputs": [
    {
     "name": "stdout",
     "output_type": "stream",
     "text": [
      "[[336  49]\n",
      " [ 61 149]]\n"
     ]
    }
   ],
   "source": [
    "predictionsT = tree.predict(XTest1)\n",
    "print(metrics.confusion_matrix(YTest1,predictionsT))"
   ]
  },
  {
   "cell_type": "code",
   "execution_count": 44,
   "metadata": {},
   "outputs": [
    {
     "name": "stdout",
     "output_type": "stream",
     "text": [
      "0.7747899159663866\n",
      "[[307  58]\n",
      " [ 76 154]]\n"
     ]
    }
   ],
   "source": [
    "tree2 =  DecisionTreeClassifier().fit(XTrain2,YTrain2)\n",
    "print(tree2.score(XTest2,YTest2))\n",
    "\n",
    "predictionsT1 = tree2.predict(XTest2)\n",
    "print(metrics.confusion_matrix(YTest2,predictionsT1))"
   ]
  },
  {
   "cell_type": "code",
   "execution_count": 6,
   "metadata": {},
   "outputs": [
    {
     "name": "stdout",
     "output_type": "stream",
     "text": [
      "[[375   0]\n",
      " [  0 169]]\n"
     ]
    }
   ],
   "source": [
    "predictions0 = model.predict(XTest0)\n",
    "print(metrics.confusion_matrix(YTest0,predictions0))"
   ]
  },
  {
   "cell_type": "markdown",
   "metadata": {},
   "source": [
    "### Year, Circuit and Avg Lap model"
   ]
  },
  {
   "cell_type": "code",
   "execution_count": 13,
   "metadata": {},
   "outputs": [],
   "source": [
    "# Creation and grid search\n",
    "model1 = LogisticRegression()\n",
    "\n",
    "clf =  GridSearchCV(model1,param_grid=paramGrid, cv=3, verbose=True, n_jobs=1)\n"
   ]
  },
  {
   "cell_type": "code",
   "execution_count": null,
   "metadata": {},
   "outputs": [],
   "source": [
    "bestClf = clf.fit(XTrain1,YTrain1)"
   ]
  },
  {
   "cell_type": "code",
   "execution_count": 16,
   "metadata": {},
   "outputs": [
    {
     "data": {
      "text/plain": [
       "LogisticRegression(C=0.0001, penalty='l1', solver='liblinear')"
      ]
     },
     "execution_count": 16,
     "metadata": {},
     "output_type": "execute_result"
    }
   ],
   "source": [
    "bestClf.best_estimator_"
   ]
  },
  {
   "cell_type": "code",
   "execution_count": 32,
   "metadata": {},
   "outputs": [
    {
     "name": "stdout",
     "output_type": "stream",
     "text": [
      "0.6134453781512605\n"
     ]
    }
   ],
   "source": [
    "# Optimizing hyperparameters\n",
    "model1 = LogisticRegression(C=0.0001, penalty='l1', solver='liblinear')\n",
    "model1.fit(XTrain1,YTrain1)\n",
    "print(model1.score(XTest1,YTest1))"
   ]
  },
  {
   "cell_type": "code",
   "execution_count": 33,
   "metadata": {},
   "outputs": [
    {
     "name": "stdout",
     "output_type": "stream",
     "text": [
      "[[365   0]\n",
      " [230   0]]\n"
     ]
    }
   ],
   "source": [
    "predictions1 = model1.predict(XTest1)\n",
    "print(metrics.confusion_matrix(YTest1,predictions1))"
   ]
  },
  {
   "cell_type": "markdown",
   "metadata": {},
   "source": [
    "### Circuit and Avg Lap model"
   ]
  },
  {
   "cell_type": "code",
   "execution_count": 10,
   "metadata": {},
   "outputs": [
    {
     "name": "stdout",
     "output_type": "stream",
     "text": [
      "0.6893382352941176\n"
     ]
    }
   ],
   "source": [
    "model2 = LogisticRegression()\n",
    "model2.fit(XTrain2,YTrain2)\n",
    "print(model2.score(XTest2,YTest2))"
   ]
  },
  {
   "cell_type": "code",
   "execution_count": 11,
   "metadata": {},
   "outputs": [
    {
     "name": "stdout",
     "output_type": "stream",
     "text": [
      "[[375   0]\n",
      " [169   0]]\n"
     ]
    }
   ],
   "source": [
    "predictions2 = model2.predict(XTest2)\n",
    "print(metrics.confusion_matrix(YTest2,predictions2))"
   ]
  },
  {
   "attachments": {},
   "cell_type": "markdown",
   "metadata": {},
   "source": [
    "# Testing"
   ]
  },
  {
   "cell_type": "markdown",
   "metadata": {},
   "source": []
  }
 ],
 "metadata": {
  "kernelspec": {
   "display_name": "base",
   "language": "python",
   "name": "python3"
  },
  "language_info": {
   "codemirror_mode": {
    "name": "ipython",
    "version": 3
   },
   "file_extension": ".py",
   "mimetype": "text/x-python",
   "name": "python",
   "nbconvert_exporter": "python",
   "pygments_lexer": "ipython3",
   "version": "3.9.12"
  },
  "orig_nbformat": 4
 },
 "nbformat": 4,
 "nbformat_minor": 2
}
