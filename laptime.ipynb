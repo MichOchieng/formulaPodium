{
 "cells": [
  {
   "cell_type": "code",
   "execution_count": 54,
   "metadata": {},
   "outputs": [],
   "source": [
    "import numpy as np\n",
    "import pandas as pd\n",
    "from sklearn.linear_model import LogisticRegression\n",
    "from sklearn.model_selection import train_test_split\n",
    "from sklearn import metrics"
   ]
  },
  {
   "attachments": {},
   "cell_type": "markdown",
   "metadata": {},
   "source": [
    "# Importing data"
   ]
  },
  {
   "cell_type": "code",
   "execution_count": 63,
   "metadata": {},
   "outputs": [
    {
     "data": {
      "text/html": [
       "<div>\n",
       "<style scoped>\n",
       "    .dataframe tbody tr th:only-of-type {\n",
       "        vertical-align: middle;\n",
       "    }\n",
       "\n",
       "    .dataframe tbody tr th {\n",
       "        vertical-align: top;\n",
       "    }\n",
       "\n",
       "    .dataframe thead th {\n",
       "        text-align: right;\n",
       "    }\n",
       "</style>\n",
       "<table border=\"1\" class=\"dataframe\">\n",
       "  <thead>\n",
       "    <tr style=\"text-align: right;\">\n",
       "      <th></th>\n",
       "      <th>constructor</th>\n",
       "      <th>avglap</th>\n",
       "      <th>year</th>\n",
       "      <th>circuit</th>\n",
       "      <th>podium</th>\n",
       "    </tr>\n",
       "  </thead>\n",
       "  <tbody>\n",
       "    <tr>\n",
       "      <th>0</th>\n",
       "      <td>Mercedes</td>\n",
       "      <td>97872.11</td>\n",
       "      <td>2014</td>\n",
       "      <td>Albert Park Grand Prix Circuit</td>\n",
       "      <td>1</td>\n",
       "    </tr>\n",
       "    <tr>\n",
       "      <th>1</th>\n",
       "      <td>McLaren</td>\n",
       "      <td>98341.88</td>\n",
       "      <td>2014</td>\n",
       "      <td>Albert Park Grand Prix Circuit</td>\n",
       "      <td>1</td>\n",
       "    </tr>\n",
       "    <tr>\n",
       "      <th>2</th>\n",
       "      <td>McLaren</td>\n",
       "      <td>98398.89</td>\n",
       "      <td>2014</td>\n",
       "      <td>Albert Park Grand Prix Circuit</td>\n",
       "      <td>1</td>\n",
       "    </tr>\n",
       "    <tr>\n",
       "      <th>3</th>\n",
       "      <td>Ferrari</td>\n",
       "      <td>98491.12</td>\n",
       "      <td>2014</td>\n",
       "      <td>Albert Park Grand Prix Circuit</td>\n",
       "      <td>0</td>\n",
       "    </tr>\n",
       "    <tr>\n",
       "      <th>4</th>\n",
       "      <td>Williams</td>\n",
       "      <td>98707.88</td>\n",
       "      <td>2014</td>\n",
       "      <td>Albert Park Grand Prix Circuit</td>\n",
       "      <td>0</td>\n",
       "    </tr>\n",
       "  </tbody>\n",
       "</table>\n",
       "</div>"
      ],
      "text/plain": [
       "  constructor    avglap  year                         circuit  podium\n",
       "0    Mercedes  97872.11  2014  Albert Park Grand Prix Circuit       1\n",
       "1     McLaren  98341.88  2014  Albert Park Grand Prix Circuit       1\n",
       "2     McLaren  98398.89  2014  Albert Park Grand Prix Circuit       1\n",
       "3     Ferrari  98491.12  2014  Albert Park Grand Prix Circuit       0\n",
       "4    Williams  98707.88  2014  Albert Park Grand Prix Circuit       0"
      ]
     },
     "execution_count": 63,
     "metadata": {},
     "output_type": "execute_result"
    }
   ],
   "source": [
    "lapData  = pd.read_table('./racedata.csv',sep=',')\n",
    "# Preview\n",
    "lapData['constructor'] = lapData['constructor'].astype(np.str0)\n",
    "lapData['avglap']  = lapData['avglap'].astype(np.float64)\n",
    "lapData['year']    = lapData['year'].astype(np.int64)\n",
    "lapData['circuit'] = lapData['circuit'].astype(np.str0)\n",
    "lapData['podium']  = lapData['podium'].astype(np.int8)\n",
    "lapData.head()"
   ]
  },
  {
   "cell_type": "markdown",
   "metadata": {},
   "source": [
    "### Split test / train data"
   ]
  },
  {
   "cell_type": "code",
   "execution_count": 72,
   "metadata": {},
   "outputs": [],
   "source": [
    "YData = lapData['podium']\n",
    "XData0 =  pd.get_dummies(lapData,prefix=['constructor','circuit'],columns=['constructor','circuit']).astype('float')\n",
    "\n",
    "lapData1 = lapData[['avglap','year','circuit']]\n",
    "XData1 =  pd.get_dummies(lapData1,prefix=['circuit'],columns=['circuit']).astype('float')\n",
    "\n",
    "lapData2 = lapData[['avglap','circuit']]\n",
    "XData2 =  pd.get_dummies(lapData2,prefix=['circuit'],columns=['circuit']).astype('float')\n"
   ]
  },
  {
   "cell_type": "code",
   "execution_count": 73,
   "metadata": {},
   "outputs": [],
   "source": [
    "XTrain0, XTest0, YTrain0, YTest0 = train_test_split(XData0, YData, test_size=0.3, random_state=2)\n",
    "\n",
    "XTrain1, XTest1, YTrain1, YTest1 = train_test_split(XData1, YData, test_size=0.3, random_state=2)\n",
    "\n",
    "XTrain2, XTest2, YTrain2, YTest2 = train_test_split(XData2, YData, test_size=0.3, random_state=2)"
   ]
  },
  {
   "attachments": {},
   "cell_type": "markdown",
   "metadata": {},
   "source": [
    "# Model Creation + Training"
   ]
  },
  {
   "cell_type": "markdown",
   "metadata": {},
   "source": [
    "### Fully featured model"
   ]
  },
  {
   "cell_type": "code",
   "execution_count": null,
   "metadata": {},
   "outputs": [],
   "source": [
    "model = LogisticRegression()\n",
    "model.fit(XTrain0,YTrain0)\n",
    "print(model.score(XTest0,YTest0))"
   ]
  },
  {
   "cell_type": "code",
   "execution_count": null,
   "metadata": {},
   "outputs": [],
   "source": [
    "predictions0 = model.predict(XTest0)\n",
    "print(metrics.confusion_matrix(YTest0,predictions0))"
   ]
  },
  {
   "cell_type": "markdown",
   "metadata": {},
   "source": [
    "### Year, Circuit and Avg Lap model"
   ]
  },
  {
   "cell_type": "code",
   "execution_count": null,
   "metadata": {},
   "outputs": [],
   "source": [
    "model1 = LogisticRegression()\n",
    "model1.fit(XTrain1,YTrain1)\n",
    "print(model.score(XTest1,YTest1))"
   ]
  },
  {
   "cell_type": "code",
   "execution_count": null,
   "metadata": {},
   "outputs": [],
   "source": [
    "predictions1 = model.predict(XTest1)\n",
    "print(metrics.confusion_matrix(YTest1,predictions1))"
   ]
  },
  {
   "cell_type": "markdown",
   "metadata": {},
   "source": [
    "### Circuit and Avg Lap model"
   ]
  },
  {
   "cell_type": "code",
   "execution_count": 68,
   "metadata": {},
   "outputs": [
    {
     "name": "stdout",
     "output_type": "stream",
     "text": [
      "1.0\n"
     ]
    }
   ],
   "source": [
    "model2 = LogisticRegression()\n",
    "model2.fit(XTrain2,YTrain2)\n",
    "print(model.score(XTest2,YTest2))"
   ]
  },
  {
   "cell_type": "code",
   "execution_count": null,
   "metadata": {},
   "outputs": [],
   "source": [
    "predictions2 = model.predict(XTest2)\n",
    "print(metrics.confusion_matrix(YTest2,predictions2))"
   ]
  },
  {
   "attachments": {},
   "cell_type": "markdown",
   "metadata": {},
   "source": [
    "# Testing"
   ]
  },
  {
   "cell_type": "markdown",
   "metadata": {},
   "source": []
  }
 ],
 "metadata": {
  "kernelspec": {
   "display_name": "base",
   "language": "python",
   "name": "python3"
  },
  "language_info": {
   "codemirror_mode": {
    "name": "ipython",
    "version": 3
   },
   "file_extension": ".py",
   "mimetype": "text/x-python",
   "name": "python",
   "nbconvert_exporter": "python",
   "pygments_lexer": "ipython3",
   "version": "3.9.12"
  },
  "orig_nbformat": 4
 },
 "nbformat": 4,
 "nbformat_minor": 2
}
