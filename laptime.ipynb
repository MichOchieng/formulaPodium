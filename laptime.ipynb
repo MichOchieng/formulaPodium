{
 "cells": [
  {
   "cell_type": "code",
   "execution_count": 54,
   "metadata": {},
   "outputs": [],
   "source": [
    "import numpy as np\n",
    "import pandas as pd\n",
    "from sklearn.linear_model import LogisticRegression\n",
    "from sklearn.model_selection import train_test_split\n",
    "from sklearn import metrics"
   ]
  },
  {
   "attachments": {},
   "cell_type": "markdown",
   "metadata": {},
   "source": [
    "# Importing data"
   ]
  },
  {
   "cell_type": "code",
   "execution_count": 63,
   "metadata": {},
   "outputs": [
    {
     "data": {
      "text/html": [
       "<div>\n",
       "<style scoped>\n",
       "    .dataframe tbody tr th:only-of-type {\n",
       "        vertical-align: middle;\n",
       "    }\n",
       "\n",
       "    .dataframe tbody tr th {\n",
       "        vertical-align: top;\n",
       "    }\n",
       "\n",
       "    .dataframe thead th {\n",
       "        text-align: right;\n",
       "    }\n",
       "</style>\n",
       "<table border=\"1\" class=\"dataframe\">\n",
       "  <thead>\n",
       "    <tr style=\"text-align: right;\">\n",
       "      <th></th>\n",
       "      <th>constructor</th>\n",
       "      <th>avglap</th>\n",
       "      <th>year</th>\n",
       "      <th>circuit</th>\n",
       "      <th>podium</th>\n",
       "    </tr>\n",
       "  </thead>\n",
       "  <tbody>\n",
       "    <tr>\n",
       "      <th>0</th>\n",
       "      <td>Mercedes</td>\n",
       "      <td>97872.11</td>\n",
       "      <td>2014</td>\n",
       "      <td>Albert Park Grand Prix Circuit</td>\n",
       "      <td>1</td>\n",
       "    </tr>\n",
       "    <tr>\n",
       "      <th>1</th>\n",
       "      <td>McLaren</td>\n",
       "      <td>98341.88</td>\n",
       "      <td>2014</td>\n",
       "      <td>Albert Park Grand Prix Circuit</td>\n",
       "      <td>1</td>\n",
       "    </tr>\n",
       "    <tr>\n",
       "      <th>2</th>\n",
       "      <td>McLaren</td>\n",
       "      <td>98398.89</td>\n",
       "      <td>2014</td>\n",
       "      <td>Albert Park Grand Prix Circuit</td>\n",
       "      <td>1</td>\n",
       "    </tr>\n",
       "    <tr>\n",
       "      <th>3</th>\n",
       "      <td>Ferrari</td>\n",
       "      <td>98491.12</td>\n",
       "      <td>2014</td>\n",
       "      <td>Albert Park Grand Prix Circuit</td>\n",
       "      <td>0</td>\n",
       "    </tr>\n",
       "    <tr>\n",
       "      <th>4</th>\n",
       "      <td>Williams</td>\n",
       "      <td>98707.88</td>\n",
       "      <td>2014</td>\n",
       "      <td>Albert Park Grand Prix Circuit</td>\n",
       "      <td>0</td>\n",
       "    </tr>\n",
       "  </tbody>\n",
       "</table>\n",
       "</div>"
      ],
      "text/plain": [
       "  constructor    avglap  year                         circuit  podium\n",
       "0    Mercedes  97872.11  2014  Albert Park Grand Prix Circuit       1\n",
       "1     McLaren  98341.88  2014  Albert Park Grand Prix Circuit       1\n",
       "2     McLaren  98398.89  2014  Albert Park Grand Prix Circuit       1\n",
       "3     Ferrari  98491.12  2014  Albert Park Grand Prix Circuit       0\n",
       "4    Williams  98707.88  2014  Albert Park Grand Prix Circuit       0"
      ]
     },
     "execution_count": 63,
     "metadata": {},
     "output_type": "execute_result"
    }
   ],
   "source": [
    "lapData  = pd.read_table('./racedata.csv',sep=',')\n",
    "# Preview\n",
    "lapData['constructor'] = lapData['constructor'].astype(np.str0)\n",
    "lapData['avglap']  = lapData['avglap'].astype(np.float64)\n",
    "lapData['year']    = lapData['year'].astype(np.int64)\n",
    "lapData['circuit'] = lapData['circuit'].astype(np.str0)\n",
    "lapData['podium']  = lapData['podium'].astype(np.int8)\n",
    "lapData.head()"
   ]
  },
  {
   "cell_type": "markdown",
   "metadata": {},
   "source": [
    "### Split test / train data"
   ]
  },
  {
   "cell_type": "code",
   "execution_count": 64,
   "metadata": {},
   "outputs": [
    {
     "name": "stdout",
     "output_type": "stream",
     "text": [
      "        avglap    year  podium  constructor_Alfa Romeo  \\\n",
      "0     97872.11  2014.0     1.0                     0.0   \n",
      "1     98341.88  2014.0     1.0                     0.0   \n",
      "2     98398.89  2014.0     1.0                     0.0   \n",
      "3     98491.12  2014.0     0.0                     0.0   \n",
      "4     98707.88  2014.0     0.0                     0.0   \n",
      "...        ...     ...     ...                     ...   \n",
      "1808  91778.52  2022.0     0.0                     0.0   \n",
      "1809  92118.02  2022.0     0.0                     0.0   \n",
      "1810  92227.28  2022.0     0.0                     0.0   \n",
      "1811  92238.14  2022.0     0.0                     0.0   \n",
      "1812  92332.50  2022.0     0.0                     0.0   \n",
      "\n",
      "      constructor_AlphaTauri  constructor_Alpine F1 Team  \\\n",
      "0                        0.0                         0.0   \n",
      "1                        0.0                         0.0   \n",
      "2                        0.0                         0.0   \n",
      "3                        0.0                         0.0   \n",
      "4                        0.0                         0.0   \n",
      "...                      ...                         ...   \n",
      "1808                     0.0                         1.0   \n",
      "1809                     0.0                         0.0   \n",
      "1810                     0.0                         0.0   \n",
      "1811                     0.0                         0.0   \n",
      "1812                     1.0                         0.0   \n",
      "\n",
      "      constructor_Aston Martin  constructor_Caterham  constructor_Ferrari  \\\n",
      "0                          0.0                   0.0                  0.0   \n",
      "1                          0.0                   0.0                  0.0   \n",
      "2                          0.0                   0.0                  0.0   \n",
      "3                          0.0                   0.0                  1.0   \n",
      "4                          0.0                   0.0                  0.0   \n",
      "...                        ...                   ...                  ...   \n",
      "1808                       0.0                   0.0                  0.0   \n",
      "1809                       1.0                   0.0                  0.0   \n",
      "1810                       0.0                   0.0                  0.0   \n",
      "1811                       1.0                   0.0                  0.0   \n",
      "1812                       0.0                   0.0                  0.0   \n",
      "\n",
      "      constructor_Force India  ...  circuit_Marina Bay Street Circuit  \\\n",
      "0                         0.0  ...                                0.0   \n",
      "1                         0.0  ...                                0.0   \n",
      "2                         0.0  ...                                0.0   \n",
      "3                         0.0  ...                                0.0   \n",
      "4                         0.0  ...                                0.0   \n",
      "...                       ...  ...                                ...   \n",
      "1808                      0.0  ...                                0.0   \n",
      "1809                      0.0  ...                                0.0   \n",
      "1810                      0.0  ...                                0.0   \n",
      "1811                      0.0  ...                                0.0   \n",
      "1812                      0.0  ...                                0.0   \n",
      "\n",
      "      circuit_Miami International Autodrome  circuit_Nürburgring  \\\n",
      "0                                       0.0                  0.0   \n",
      "1                                       0.0                  0.0   \n",
      "2                                       0.0                  0.0   \n",
      "3                                       0.0                  0.0   \n",
      "4                                       0.0                  0.0   \n",
      "...                                     ...                  ...   \n",
      "1808                                    0.0                  0.0   \n",
      "1809                                    0.0                  0.0   \n",
      "1810                                    0.0                  0.0   \n",
      "1811                                    0.0                  0.0   \n",
      "1812                                    0.0                  0.0   \n",
      "\n",
      "      circuit_Red Bull Ring  circuit_Sepang International Circuit  \\\n",
      "0                       0.0                                   0.0   \n",
      "1                       0.0                                   0.0   \n",
      "2                       0.0                                   0.0   \n",
      "3                       0.0                                   0.0   \n",
      "4                       0.0                                   0.0   \n",
      "...                     ...                                   ...   \n",
      "1808                    0.0                                   0.0   \n",
      "1809                    0.0                                   0.0   \n",
      "1810                    0.0                                   0.0   \n",
      "1811                    0.0                                   0.0   \n",
      "1812                    0.0                                   0.0   \n",
      "\n",
      "      circuit_Shanghai International Circuit  circuit_Silverstone Circuit  \\\n",
      "0                                        0.0                          0.0   \n",
      "1                                        0.0                          0.0   \n",
      "2                                        0.0                          0.0   \n",
      "3                                        0.0                          0.0   \n",
      "4                                        0.0                          0.0   \n",
      "...                                      ...                          ...   \n",
      "1808                                     0.0                          0.0   \n",
      "1809                                     0.0                          0.0   \n",
      "1810                                     0.0                          0.0   \n",
      "1811                                     0.0                          0.0   \n",
      "1812                                     0.0                          0.0   \n",
      "\n",
      "      circuit_Sochi Autodrom  circuit_Suzuka Circuit  \\\n",
      "0                        0.0                     0.0   \n",
      "1                        0.0                     0.0   \n",
      "2                        0.0                     0.0   \n",
      "3                        0.0                     0.0   \n",
      "4                        0.0                     0.0   \n",
      "...                      ...                     ...   \n",
      "1808                     0.0                     0.0   \n",
      "1809                     0.0                     0.0   \n",
      "1810                     0.0                     0.0   \n",
      "1811                     0.0                     0.0   \n",
      "1812                     0.0                     0.0   \n",
      "\n",
      "      circuit_Yas Marina Circuit  \n",
      "0                            0.0  \n",
      "1                            0.0  \n",
      "2                            0.0  \n",
      "3                            0.0  \n",
      "4                            0.0  \n",
      "...                          ...  \n",
      "1808                         1.0  \n",
      "1809                         1.0  \n",
      "1810                         1.0  \n",
      "1811                         1.0  \n",
      "1812                         1.0  \n",
      "\n",
      "[1813 rows x 53 columns]\n"
     ]
    }
   ],
   "source": [
    "YData = lapData['podium']\n",
    "XData =  pd.get_dummies(lapData,prefix=['constructor','circuit'],columns=['constructor','circuit']).astype('float')\n",
    "# XData = lapData\n",
    "print(XData)\n",
    "# print(pd.get_dummies(lapData.pop('avglap')))"
   ]
  },
  {
   "cell_type": "code",
   "execution_count": 65,
   "metadata": {},
   "outputs": [],
   "source": [
    "XTrain, XTest, YTrain, YTest = train_test_split(XData, YData, test_size=0.3, random_state=2)"
   ]
  },
  {
   "attachments": {},
   "cell_type": "markdown",
   "metadata": {},
   "source": [
    "# Model Creation + Training"
   ]
  },
  {
   "cell_type": "code",
   "execution_count": 66,
   "metadata": {},
   "outputs": [],
   "source": [
    "model = LogisticRegression()"
   ]
  },
  {
   "cell_type": "code",
   "execution_count": 67,
   "metadata": {},
   "outputs": [
    {
     "data": {
      "text/plain": [
       "LogisticRegression()"
      ]
     },
     "execution_count": 67,
     "metadata": {},
     "output_type": "execute_result"
    }
   ],
   "source": [
    "model.fit(XTrain,YTrain)"
   ]
  },
  {
   "cell_type": "code",
   "execution_count": 68,
   "metadata": {},
   "outputs": [
    {
     "name": "stdout",
     "output_type": "stream",
     "text": [
      "1.0\n"
     ]
    }
   ],
   "source": [
    "print(model.score(XTest,YTest))"
   ]
  },
  {
   "cell_type": "code",
   "execution_count": 69,
   "metadata": {},
   "outputs": [],
   "source": [
    "predictions = model.predict(XTest)"
   ]
  },
  {
   "cell_type": "code",
   "execution_count": 70,
   "metadata": {},
   "outputs": [
    {
     "data": {
      "text/plain": [
       "array([1, 0, 1, 1, 0, 0, 0, 0, 0, 0, 1, 0, 0, 0, 1, 0, 1, 0, 1, 1, 1, 0,\n",
       "       0, 0, 0, 0, 1, 1, 0, 1, 0, 0, 1, 0, 0, 0, 0, 0, 0, 1, 0, 1, 0, 0,\n",
       "       1, 0, 1, 1, 0, 1, 0, 0, 1, 0, 0, 1, 1, 0, 1, 0, 1, 1, 1, 0, 1, 0,\n",
       "       0, 0, 0, 1, 0, 0, 1, 0, 0, 0, 0, 1, 0, 0, 0, 0, 0, 0, 1, 1, 1, 0,\n",
       "       0, 0, 0, 0, 0, 0, 0, 1, 0, 1, 0, 1, 0, 0, 0, 1, 0, 0, 0, 0, 0, 0,\n",
       "       0, 1, 0, 1, 1, 1, 0, 0, 0, 0, 1, 0, 1, 0, 0, 0, 1, 0, 0, 0, 1, 0,\n",
       "       0, 0, 0, 1, 0, 1, 0, 1, 1, 1, 1, 0, 1, 1, 0, 0, 0, 0, 0, 0, 0, 0,\n",
       "       0, 0, 0, 0, 0, 0, 1, 0, 0, 1, 0, 1, 0, 0, 0, 1, 0, 1, 0, 0, 1, 0,\n",
       "       0, 0, 0, 0, 0, 0, 0, 0, 1, 1, 0, 0, 1, 0, 0, 0, 0, 1, 1, 0, 0, 0,\n",
       "       0, 1, 1, 0, 0, 0, 1, 0, 0, 1, 0, 0, 0, 1, 0, 0, 1, 0, 1, 1, 1, 0,\n",
       "       0, 0, 0, 0, 0, 0, 0, 0, 0, 0, 0, 0, 1, 0, 0, 0, 0, 0, 0, 1, 1, 1,\n",
       "       0, 0, 1, 1, 0, 0, 0, 0, 0, 0, 0, 0, 0, 0, 0, 0, 0, 0, 1, 0, 1, 0,\n",
       "       1, 1, 0, 0, 0, 0, 0, 0, 0, 0, 0, 0, 0, 1, 0, 0, 0, 0, 1, 1, 0, 1,\n",
       "       0, 0, 0, 0, 0, 0, 0, 0, 0, 0, 0, 1, 0, 1, 0, 0, 0, 0, 0, 0, 0, 1,\n",
       "       0, 0, 0, 0, 0, 0, 0, 0, 1, 1, 1, 1, 1, 0, 0, 0, 1, 0, 0, 0, 0, 0,\n",
       "       0, 0, 0, 0, 1, 1, 0, 0, 1, 1, 0, 0, 1, 0, 0, 1, 1, 0, 0, 0, 0, 1,\n",
       "       0, 0, 0, 1, 0, 0, 0, 0, 0, 1, 1, 0, 1, 0, 1, 1, 1, 0, 1, 0, 1, 1,\n",
       "       1, 0, 0, 0, 0, 0, 0, 1, 0, 0, 0, 0, 1, 0, 1, 0, 1, 1, 0, 0, 0, 1,\n",
       "       1, 1, 1, 0, 0, 1, 0, 0, 0, 0, 0, 1, 1, 1, 0, 1, 1, 0, 0, 0, 1, 0,\n",
       "       1, 1, 1, 1, 0, 0, 0, 1, 1, 0, 1, 0, 1, 1, 1, 0, 0, 1, 1, 0, 0, 0,\n",
       "       1, 1, 0, 1, 0, 0, 1, 0, 0, 0, 0, 0, 0, 0, 0, 0, 0, 0, 0, 1, 1, 0,\n",
       "       0, 1, 0, 0, 0, 1, 0, 0, 1, 0, 0, 0, 1, 0, 1, 0, 1, 0, 0, 0, 0, 1,\n",
       "       1, 0, 0, 1, 0, 0, 0, 0, 1, 0, 1, 1, 0, 0, 0, 0, 0, 0, 0, 1, 0, 0,\n",
       "       0, 0, 0, 0, 1, 0, 0, 0, 0, 0, 0, 1, 1, 0, 0, 0, 0, 0, 0, 0, 0, 1,\n",
       "       0, 1, 1, 0, 0, 0, 0, 0, 0, 0, 0, 0, 0, 0, 0, 1], dtype=int8)"
      ]
     },
     "execution_count": 70,
     "metadata": {},
     "output_type": "execute_result"
    }
   ],
   "source": [
    "predictions"
   ]
  },
  {
   "cell_type": "code",
   "execution_count": 71,
   "metadata": {},
   "outputs": [
    {
     "name": "stdout",
     "output_type": "stream",
     "text": [
      "[[375   0]\n",
      " [  0 169]]\n"
     ]
    }
   ],
   "source": [
    "print(metrics.confusion_matrix(YTest,predictions))"
   ]
  },
  {
   "attachments": {},
   "cell_type": "markdown",
   "metadata": {},
   "source": [
    "# Testing"
   ]
  },
  {
   "cell_type": "markdown",
   "metadata": {},
   "source": []
  }
 ],
 "metadata": {
  "kernelspec": {
   "display_name": "base",
   "language": "python",
   "name": "python3"
  },
  "language_info": {
   "codemirror_mode": {
    "name": "ipython",
    "version": 3
   },
   "file_extension": ".py",
   "mimetype": "text/x-python",
   "name": "python",
   "nbconvert_exporter": "python",
   "pygments_lexer": "ipython3",
   "version": "3.9.12"
  },
  "orig_nbformat": 4
 },
 "nbformat": 4,
 "nbformat_minor": 2
}
