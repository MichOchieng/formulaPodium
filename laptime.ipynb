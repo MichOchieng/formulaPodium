{
 "cells": [
  {
   "cell_type": "code",
   "execution_count": 1,
   "metadata": {},
   "outputs": [],
   "source": [
    "import numpy as np\n",
    "import pandas as pd\n",
    "from sklearn.linear_model import LogisticRegression\n",
    "from sklearn.model_selection import train_test_split\n",
    "from sklearn import metrics"
   ]
  },
  {
   "attachments": {},
   "cell_type": "markdown",
   "metadata": {},
   "source": [
    "# Importing data"
   ]
  },
  {
   "cell_type": "code",
   "execution_count": 20,
   "metadata": {},
   "outputs": [
    {
     "data": {
      "text/html": [
       "<div>\n",
       "<style scoped>\n",
       "    .dataframe tbody tr th:only-of-type {\n",
       "        vertical-align: middle;\n",
       "    }\n",
       "\n",
       "    .dataframe tbody tr th {\n",
       "        vertical-align: top;\n",
       "    }\n",
       "\n",
       "    .dataframe thead th {\n",
       "        text-align: right;\n",
       "    }\n",
       "</style>\n",
       "<table border=\"1\" class=\"dataframe\">\n",
       "  <thead>\n",
       "    <tr style=\"text-align: right;\">\n",
       "      <th></th>\n",
       "      <th>year</th>\n",
       "      <th>circuit</th>\n",
       "      <th>fastestLap</th>\n",
       "      <th>lap</th>\n",
       "      <th>avglap</th>\n",
       "      <th>podium</th>\n",
       "    </tr>\n",
       "  </thead>\n",
       "  <tbody>\n",
       "    <tr>\n",
       "      <th>0</th>\n",
       "      <td>2014</td>\n",
       "      <td>Albert Park Grand Prix Circuit</td>\n",
       "      <td>19</td>\n",
       "      <td>19</td>\n",
       "      <td>92478</td>\n",
       "      <td>1</td>\n",
       "    </tr>\n",
       "    <tr>\n",
       "      <th>1</th>\n",
       "      <td>2014</td>\n",
       "      <td>Autódromo José Carlos Pace</td>\n",
       "      <td>62</td>\n",
       "      <td>62</td>\n",
       "      <td>73555</td>\n",
       "      <td>1</td>\n",
       "    </tr>\n",
       "    <tr>\n",
       "      <th>2</th>\n",
       "      <td>2014</td>\n",
       "      <td>Autodromo Nazionale di Monza</td>\n",
       "      <td>29</td>\n",
       "      <td>29</td>\n",
       "      <td>88004</td>\n",
       "      <td>1</td>\n",
       "    </tr>\n",
       "    <tr>\n",
       "      <th>3</th>\n",
       "      <td>2014</td>\n",
       "      <td>Bahrain International Circuit</td>\n",
       "      <td>49</td>\n",
       "      <td>49</td>\n",
       "      <td>97020</td>\n",
       "      <td>1</td>\n",
       "    </tr>\n",
       "    <tr>\n",
       "      <th>4</th>\n",
       "      <td>2014</td>\n",
       "      <td>Circuit de Barcelona-Catalunya</td>\n",
       "      <td>55</td>\n",
       "      <td>55</td>\n",
       "      <td>88918</td>\n",
       "      <td>1</td>\n",
       "    </tr>\n",
       "  </tbody>\n",
       "</table>\n",
       "</div>"
      ],
      "text/plain": [
       "   year                         circuit  fastestLap  lap avglap  podium\n",
       "0  2014  Albert Park Grand Prix Circuit          19   19  92478       1\n",
       "1  2014      Autódromo José Carlos Pace          62   62  73555       1\n",
       "2  2014    Autodromo Nazionale di Monza          29   29  88004       1\n",
       "3  2014   Bahrain International Circuit          49   49  97020       1\n",
       "4  2014  Circuit de Barcelona-Catalunya          55   55  88918       1"
      ]
     },
     "execution_count": 20,
     "metadata": {},
     "output_type": "execute_result"
    }
   ],
   "source": [
    "lapData  = pd.read_table('./racedata.csv',sep=',')\n",
    "fastestLaps = pd.read_table('./fastestLaps.csv',sep=',')\n",
    "# Preview\n",
    "lapData['constructor'] = lapData['constructor'].astype(np.str0)\n",
    "lapData['avglap']  = lapData['avglap'].astype(np.float64)\n",
    "lapData['year']    = lapData['year'].astype(np.int64)\n",
    "lapData['circuit'] = lapData['circuit'].astype(np.str0)\n",
    "lapData['podium']  = lapData['podium'].astype(np.int8)\n",
    "\n",
    "fastestLaps['avglap']       = fastestLaps['avglap'].astype(np.str0)\n",
    "fastestLaps['year']         = fastestLaps['year'].astype(np.int64)\n",
    "fastestLaps['circuit']      = fastestLaps['circuit'].astype(np.str0)\n",
    "fastestLaps['podium']       = fastestLaps['podium'].astype(np.int8)\n",
    "lapData.head()\n",
    "fastestLaps.head()"
   ]
  },
  {
   "cell_type": "markdown",
   "metadata": {},
   "source": [
    "### Split test / train data"
   ]
  },
  {
   "cell_type": "code",
   "execution_count": 21,
   "metadata": {},
   "outputs": [],
   "source": [
    "YData = lapData['podium']\n",
    "XData0 =  pd.get_dummies(lapData,prefix=['constructor','circuit'],columns=['constructor','circuit']).astype('float')\n",
    "\n",
    "lapData1 = lapData[['avglap','year','circuit']]\n",
    "XData1 =  pd.get_dummies(lapData1,prefix=['circuit'],columns=['circuit']).astype('float')\n",
    "\n",
    "lapData2 = lapData[['avglap','circuit']]\n",
    "XData2 =  pd.get_dummies(lapData2,prefix=['circuit'],columns=['circuit']).astype('float')\n"
   ]
  },
  {
   "cell_type": "code",
   "execution_count": 22,
   "metadata": {},
   "outputs": [],
   "source": [
    "XTrain0, XTest0, YTrain0, YTest0 = train_test_split(XData0, YData, test_size=0.3, random_state=2)\n",
    "\n",
    "XTrain1, XTest1, YTrain1, YTest1 = train_test_split(XData1, YData, test_size=0.3, random_state=4)\n",
    "\n",
    "XTrain2, XTest2, YTrain2, YTest2 = train_test_split(XData2, YData, test_size=0.3, random_state=6)"
   ]
  },
  {
   "attachments": {},
   "cell_type": "markdown",
   "metadata": {},
   "source": [
    "# Model Creation + Training"
   ]
  },
  {
   "attachments": {},
   "cell_type": "markdown",
   "metadata": {},
   "source": [
    "#### Utillities"
   ]
  },
  {
   "cell_type": "code",
   "execution_count": 23,
   "metadata": {},
   "outputs": [],
   "source": [
    "from sklearn.model_selection import GridSearchCV\n",
    "\n",
    "paramGrid = [\n",
    "    {\n",
    "        'penalty' : ['l1','l2','elasticnet','none'],\n",
    "        'C' : np.logspace(-4,4,20),\n",
    "        'solver' : ['lbfgs','newton-cg','liblinear','sag','saga'],\n",
    "        'max_iter' : [100,1000,2500,5000]\n",
    "    }\n",
    "]"
   ]
  },
  {
   "cell_type": "markdown",
   "metadata": {},
   "source": [
    "### Fully featured model"
   ]
  },
  {
   "cell_type": "code",
   "execution_count": 5,
   "metadata": {},
   "outputs": [
    {
     "name": "stdout",
     "output_type": "stream",
     "text": [
      "1.0\n"
     ]
    }
   ],
   "source": [
    "model = LogisticRegression()\n",
    "model.fit(XTrain0,YTrain0)\n",
    "print(model.score(XTest0,YTest0))"
   ]
  },
  {
   "cell_type": "code",
   "execution_count": 6,
   "metadata": {},
   "outputs": [
    {
     "name": "stdout",
     "output_type": "stream",
     "text": [
      "[[375   0]\n",
      " [  0 169]]\n"
     ]
    }
   ],
   "source": [
    "predictions0 = model.predict(XTest0)\n",
    "print(metrics.confusion_matrix(YTest0,predictions0))"
   ]
  },
  {
   "cell_type": "markdown",
   "metadata": {},
   "source": [
    "### Year, Circuit and Avg Lap model"
   ]
  },
  {
   "cell_type": "code",
   "execution_count": 13,
   "metadata": {},
   "outputs": [],
   "source": [
    "# Creation and grid search\n",
    "model1 = LogisticRegression()\n",
    "\n",
    "clf =  GridSearchCV(model1,param_grid=paramGrid, cv=3, verbose=True, n_jobs=1)\n"
   ]
  },
  {
   "cell_type": "code",
   "execution_count": null,
   "metadata": {},
   "outputs": [],
   "source": [
    "bestClf = clf.fit(XTrain1,YTrain1)"
   ]
  },
  {
   "cell_type": "code",
   "execution_count": 16,
   "metadata": {},
   "outputs": [
    {
     "data": {
      "text/plain": [
       "LogisticRegression(C=0.0001, penalty='l1', solver='liblinear')"
      ]
     },
     "execution_count": 16,
     "metadata": {},
     "output_type": "execute_result"
    }
   ],
   "source": [
    "bestClf.best_estimator_"
   ]
  },
  {
   "cell_type": "code",
   "execution_count": 24,
   "metadata": {},
   "outputs": [
    {
     "name": "stdout",
     "output_type": "stream",
     "text": [
      "0.6893382352941176\n"
     ]
    }
   ],
   "source": [
    "# Optimizing hyperparameters\n",
    "model1 = LogisticRegression(C=0.0001, penalty='l1', solver='liblinear')\n",
    "model1.fit(XTrain1,YTrain1)\n",
    "print(model1.score(XTest1,YTest1))"
   ]
  },
  {
   "cell_type": "code",
   "execution_count": 25,
   "metadata": {},
   "outputs": [
    {
     "name": "stdout",
     "output_type": "stream",
     "text": [
      "[[375   0]\n",
      " [169   0]]\n"
     ]
    }
   ],
   "source": [
    "predictions1 = model1.predict(XTest1)\n",
    "print(metrics.confusion_matrix(YTest1,predictions1))"
   ]
  },
  {
   "cell_type": "markdown",
   "metadata": {},
   "source": [
    "### Circuit and Avg Lap model"
   ]
  },
  {
   "cell_type": "code",
   "execution_count": 10,
   "metadata": {},
   "outputs": [
    {
     "name": "stdout",
     "output_type": "stream",
     "text": [
      "0.6893382352941176\n"
     ]
    }
   ],
   "source": [
    "model2 = LogisticRegression()\n",
    "model2.fit(XTrain2,YTrain2)\n",
    "print(model2.score(XTest2,YTest2))"
   ]
  },
  {
   "cell_type": "code",
   "execution_count": 11,
   "metadata": {},
   "outputs": [
    {
     "name": "stdout",
     "output_type": "stream",
     "text": [
      "[[375   0]\n",
      " [169   0]]\n"
     ]
    }
   ],
   "source": [
    "predictions2 = model2.predict(XTest2)\n",
    "print(metrics.confusion_matrix(YTest2,predictions2))"
   ]
  },
  {
   "attachments": {},
   "cell_type": "markdown",
   "metadata": {},
   "source": [
    "# Testing"
   ]
  },
  {
   "cell_type": "markdown",
   "metadata": {},
   "source": []
  }
 ],
 "metadata": {
  "kernelspec": {
   "display_name": "base",
   "language": "python",
   "name": "python3"
  },
  "language_info": {
   "codemirror_mode": {
    "name": "ipython",
    "version": 3
   },
   "file_extension": ".py",
   "mimetype": "text/x-python",
   "name": "python",
   "nbconvert_exporter": "python",
   "pygments_lexer": "ipython3",
   "version": "3.9.13"
  },
  "orig_nbformat": 4
 },
 "nbformat": 4,
 "nbformat_minor": 2
}
